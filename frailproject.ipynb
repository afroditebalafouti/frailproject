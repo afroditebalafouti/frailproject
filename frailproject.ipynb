{
 "cells": [
  {
   "cell_type": "code",
   "execution_count": 1,
   "metadata": {
    "scrolled": false
   },
   "outputs": [
    {
     "ename": "OSError",
     "evalue": "Initializing from file failed",
     "output_type": "error",
     "traceback": [
      "\u001b[1;31m---------------------------------------------------------------------------\u001b[0m",
      "\u001b[1;31mOSError\u001b[0m                                   Traceback (most recent call last)",
      "\u001b[1;32m<ipython-input-1-b956f3fd04c3>\u001b[0m in \u001b[0;36m<module>\u001b[1;34m()\u001b[0m\n\u001b[0;32m      5\u001b[0m     \u001b[0mresult\u001b[0m \u001b[1;33m=\u001b[0m \u001b[0mchardet\u001b[0m\u001b[1;33m.\u001b[0m\u001b[0mdetect\u001b[0m\u001b[1;33m(\u001b[0m\u001b[0mf\u001b[0m\u001b[1;33m.\u001b[0m\u001b[0mread\u001b[0m\u001b[1;33m(\u001b[0m\u001b[1;33m)\u001b[0m\u001b[1;33m)\u001b[0m  \u001b[1;31m# or readline if the file is large\u001b[0m\u001b[1;33m\u001b[0m\u001b[0m\n\u001b[0;32m      6\u001b[0m \u001b[1;33m\u001b[0m\u001b[0m\n\u001b[1;32m----> 7\u001b[1;33m \u001b[0mAccX\u001b[0m\u001b[1;33m=\u001b[0m\u001b[0mpd\u001b[0m\u001b[1;33m.\u001b[0m\u001b[0mread_csv\u001b[0m\u001b[1;33m(\u001b[0m\u001b[1;34m'C:\\\\Users\\\\χρυσαυγη\\\\Documents\\\\frailty\\\\Afroditi\\\\Frail\\\\2090\\\\2090_adl_protocol_AccZ.csv'\u001b[0m\u001b[1;33m,\u001b[0m \u001b[0mencoding\u001b[0m\u001b[1;33m=\u001b[0m\u001b[0mresult\u001b[0m\u001b[1;33m[\u001b[0m\u001b[1;34m'encoding'\u001b[0m\u001b[1;33m]\u001b[0m\u001b[1;33m,\u001b[0m\u001b[0mdelimiter\u001b[0m\u001b[1;33m=\u001b[0m\u001b[1;34m'\\t'\u001b[0m\u001b[1;33m,\u001b[0m\u001b[0mskiprows\u001b[0m\u001b[1;33m=\u001b[0m\u001b[1;33m[\u001b[0m\u001b[1;36m0\u001b[0m\u001b[1;33m]\u001b[0m\u001b[1;33m)\u001b[0m\u001b[1;33m\u001b[0m\u001b[0m\n\u001b[0m",
      "\u001b[1;32mC:\\Anacoda3\\lib\\site-packages\\pandas\\io\\parsers.py\u001b[0m in \u001b[0;36mparser_f\u001b[1;34m(filepath_or_buffer, sep, delimiter, header, names, index_col, usecols, squeeze, prefix, mangle_dupe_cols, dtype, engine, converters, true_values, false_values, skipinitialspace, skiprows, nrows, na_values, keep_default_na, na_filter, verbose, skip_blank_lines, parse_dates, infer_datetime_format, keep_date_col, date_parser, dayfirst, iterator, chunksize, compression, thousands, decimal, lineterminator, quotechar, quoting, escapechar, comment, encoding, dialect, tupleize_cols, error_bad_lines, warn_bad_lines, skipfooter, skip_footer, doublequote, delim_whitespace, as_recarray, compact_ints, use_unsigned, low_memory, buffer_lines, memory_map, float_precision)\u001b[0m\n\u001b[0;32m    707\u001b[0m                     skip_blank_lines=skip_blank_lines)\n\u001b[0;32m    708\u001b[0m \u001b[1;33m\u001b[0m\u001b[0m\n\u001b[1;32m--> 709\u001b[1;33m         \u001b[1;32mreturn\u001b[0m \u001b[0m_read\u001b[0m\u001b[1;33m(\u001b[0m\u001b[0mfilepath_or_buffer\u001b[0m\u001b[1;33m,\u001b[0m \u001b[0mkwds\u001b[0m\u001b[1;33m)\u001b[0m\u001b[1;33m\u001b[0m\u001b[0m\n\u001b[0m\u001b[0;32m    710\u001b[0m \u001b[1;33m\u001b[0m\u001b[0m\n\u001b[0;32m    711\u001b[0m     \u001b[0mparser_f\u001b[0m\u001b[1;33m.\u001b[0m\u001b[0m__name__\u001b[0m \u001b[1;33m=\u001b[0m \u001b[0mname\u001b[0m\u001b[1;33m\u001b[0m\u001b[0m\n",
      "\u001b[1;32mC:\\Anacoda3\\lib\\site-packages\\pandas\\io\\parsers.py\u001b[0m in \u001b[0;36m_read\u001b[1;34m(filepath_or_buffer, kwds)\u001b[0m\n\u001b[0;32m    447\u001b[0m \u001b[1;33m\u001b[0m\u001b[0m\n\u001b[0;32m    448\u001b[0m     \u001b[1;31m# Create the parser.\u001b[0m\u001b[1;33m\u001b[0m\u001b[1;33m\u001b[0m\u001b[0m\n\u001b[1;32m--> 449\u001b[1;33m     \u001b[0mparser\u001b[0m \u001b[1;33m=\u001b[0m \u001b[0mTextFileReader\u001b[0m\u001b[1;33m(\u001b[0m\u001b[0mfilepath_or_buffer\u001b[0m\u001b[1;33m,\u001b[0m \u001b[1;33m**\u001b[0m\u001b[0mkwds\u001b[0m\u001b[1;33m)\u001b[0m\u001b[1;33m\u001b[0m\u001b[0m\n\u001b[0m\u001b[0;32m    450\u001b[0m \u001b[1;33m\u001b[0m\u001b[0m\n\u001b[0;32m    451\u001b[0m     \u001b[1;32mif\u001b[0m \u001b[0mchunksize\u001b[0m \u001b[1;32mor\u001b[0m \u001b[0miterator\u001b[0m\u001b[1;33m:\u001b[0m\u001b[1;33m\u001b[0m\u001b[0m\n",
      "\u001b[1;32mC:\\Anacoda3\\lib\\site-packages\\pandas\\io\\parsers.py\u001b[0m in \u001b[0;36m__init__\u001b[1;34m(self, f, engine, **kwds)\u001b[0m\n\u001b[0;32m    816\u001b[0m             \u001b[0mself\u001b[0m\u001b[1;33m.\u001b[0m\u001b[0moptions\u001b[0m\u001b[1;33m[\u001b[0m\u001b[1;34m'has_index_names'\u001b[0m\u001b[1;33m]\u001b[0m \u001b[1;33m=\u001b[0m \u001b[0mkwds\u001b[0m\u001b[1;33m[\u001b[0m\u001b[1;34m'has_index_names'\u001b[0m\u001b[1;33m]\u001b[0m\u001b[1;33m\u001b[0m\u001b[0m\n\u001b[0;32m    817\u001b[0m \u001b[1;33m\u001b[0m\u001b[0m\n\u001b[1;32m--> 818\u001b[1;33m         \u001b[0mself\u001b[0m\u001b[1;33m.\u001b[0m\u001b[0m_make_engine\u001b[0m\u001b[1;33m(\u001b[0m\u001b[0mself\u001b[0m\u001b[1;33m.\u001b[0m\u001b[0mengine\u001b[0m\u001b[1;33m)\u001b[0m\u001b[1;33m\u001b[0m\u001b[0m\n\u001b[0m\u001b[0;32m    819\u001b[0m \u001b[1;33m\u001b[0m\u001b[0m\n\u001b[0;32m    820\u001b[0m     \u001b[1;32mdef\u001b[0m \u001b[0mclose\u001b[0m\u001b[1;33m(\u001b[0m\u001b[0mself\u001b[0m\u001b[1;33m)\u001b[0m\u001b[1;33m:\u001b[0m\u001b[1;33m\u001b[0m\u001b[0m\n",
      "\u001b[1;32mC:\\Anacoda3\\lib\\site-packages\\pandas\\io\\parsers.py\u001b[0m in \u001b[0;36m_make_engine\u001b[1;34m(self, engine)\u001b[0m\n\u001b[0;32m   1047\u001b[0m     \u001b[1;32mdef\u001b[0m \u001b[0m_make_engine\u001b[0m\u001b[1;33m(\u001b[0m\u001b[0mself\u001b[0m\u001b[1;33m,\u001b[0m \u001b[0mengine\u001b[0m\u001b[1;33m=\u001b[0m\u001b[1;34m'c'\u001b[0m\u001b[1;33m)\u001b[0m\u001b[1;33m:\u001b[0m\u001b[1;33m\u001b[0m\u001b[0m\n\u001b[0;32m   1048\u001b[0m         \u001b[1;32mif\u001b[0m \u001b[0mengine\u001b[0m \u001b[1;33m==\u001b[0m \u001b[1;34m'c'\u001b[0m\u001b[1;33m:\u001b[0m\u001b[1;33m\u001b[0m\u001b[0m\n\u001b[1;32m-> 1049\u001b[1;33m             \u001b[0mself\u001b[0m\u001b[1;33m.\u001b[0m\u001b[0m_engine\u001b[0m \u001b[1;33m=\u001b[0m \u001b[0mCParserWrapper\u001b[0m\u001b[1;33m(\u001b[0m\u001b[0mself\u001b[0m\u001b[1;33m.\u001b[0m\u001b[0mf\u001b[0m\u001b[1;33m,\u001b[0m \u001b[1;33m**\u001b[0m\u001b[0mself\u001b[0m\u001b[1;33m.\u001b[0m\u001b[0moptions\u001b[0m\u001b[1;33m)\u001b[0m\u001b[1;33m\u001b[0m\u001b[0m\n\u001b[0m\u001b[0;32m   1050\u001b[0m         \u001b[1;32melse\u001b[0m\u001b[1;33m:\u001b[0m\u001b[1;33m\u001b[0m\u001b[0m\n\u001b[0;32m   1051\u001b[0m             \u001b[1;32mif\u001b[0m \u001b[0mengine\u001b[0m \u001b[1;33m==\u001b[0m \u001b[1;34m'python'\u001b[0m\u001b[1;33m:\u001b[0m\u001b[1;33m\u001b[0m\u001b[0m\n",
      "\u001b[1;32mC:\\Anacoda3\\lib\\site-packages\\pandas\\io\\parsers.py\u001b[0m in \u001b[0;36m__init__\u001b[1;34m(self, src, **kwds)\u001b[0m\n\u001b[0;32m   1693\u001b[0m         \u001b[0mkwds\u001b[0m\u001b[1;33m[\u001b[0m\u001b[1;34m'allow_leading_cols'\u001b[0m\u001b[1;33m]\u001b[0m \u001b[1;33m=\u001b[0m \u001b[0mself\u001b[0m\u001b[1;33m.\u001b[0m\u001b[0mindex_col\u001b[0m \u001b[1;32mis\u001b[0m \u001b[1;32mnot\u001b[0m \u001b[1;32mFalse\u001b[0m\u001b[1;33m\u001b[0m\u001b[0m\n\u001b[0;32m   1694\u001b[0m \u001b[1;33m\u001b[0m\u001b[0m\n\u001b[1;32m-> 1695\u001b[1;33m         \u001b[0mself\u001b[0m\u001b[1;33m.\u001b[0m\u001b[0m_reader\u001b[0m \u001b[1;33m=\u001b[0m \u001b[0mparsers\u001b[0m\u001b[1;33m.\u001b[0m\u001b[0mTextReader\u001b[0m\u001b[1;33m(\u001b[0m\u001b[0msrc\u001b[0m\u001b[1;33m,\u001b[0m \u001b[1;33m**\u001b[0m\u001b[0mkwds\u001b[0m\u001b[1;33m)\u001b[0m\u001b[1;33m\u001b[0m\u001b[0m\n\u001b[0m\u001b[0;32m   1696\u001b[0m \u001b[1;33m\u001b[0m\u001b[0m\n\u001b[0;32m   1697\u001b[0m         \u001b[1;31m# XXX\u001b[0m\u001b[1;33m\u001b[0m\u001b[1;33m\u001b[0m\u001b[0m\n",
      "\u001b[1;32mpandas/_libs/parsers.pyx\u001b[0m in \u001b[0;36mpandas._libs.parsers.TextReader.__cinit__\u001b[1;34m()\u001b[0m\n",
      "\u001b[1;32mpandas/_libs/parsers.pyx\u001b[0m in \u001b[0;36mpandas._libs.parsers.TextReader._setup_parser_source\u001b[1;34m()\u001b[0m\n",
      "\u001b[1;31mOSError\u001b[0m: Initializing from file failed"
     ]
    }
   ],
   "source": [
    "import os \n",
    "import pandas as pd\n",
    "import chardet\n",
    "with open('C:\\\\Users\\\\χρυσαυγη\\\\Documents\\\\frailty\\\\Afroditi\\\\Frail\\\\2090\\\\2090_adl_protocol_AccZ.csv', 'rb') as f:\n",
    "    result = chardet.detect(f.read())  # or readline if the file is large\n",
    "\n",
    "AccX=pd.read_csv('C:\\\\Users\\\\χρυσαυγη\\\\Documents\\\\frailty\\\\Afroditi\\\\Frail\\\\2090\\\\2090_adl_protocol_AccZ.csv', encoding=result['encoding'],delimiter='\\t',skiprows=[0])"
   ]
  },
  {
   "cell_type": "code",
   "execution_count": 13,
   "metadata": {},
   "outputs": [
    {
     "data": {
      "text/plain": [
       "{'__globals__': [],\n",
       " '__header__': b'MATLAB 5.0 MAT-file, Platform: PCWIN64, Created on: Tue Feb 27 11:29:05 2018',\n",
       " '__version__': '1.0',\n",
       " 'activity': array([[ 60,   2],\n",
       "        [120,   1],\n",
       "        [180,   4],\n",
       "        [210,   3]], dtype=uint8)}"
      ]
     },
     "execution_count": 13,
     "metadata": {},
     "output_type": "execute_result"
    }
   ],
   "source": [
    "import scipy.io\n",
    "activity = scipy.io.loadmat('C:\\\\Users\\\\χρυσαυγη\\\\Documents\\\\frailty\\\\Afroditi\\\\Frail\\\\2090\\\\activity.mat')\n",
    "activity"
   ]
  },
  {
   "cell_type": "code",
   "execution_count": 23,
   "metadata": {
    "scrolled": true
   },
   "outputs": [
    {
     "name": "stdout",
     "output_type": "stream",
     "text": [
      "/home/afroditi/Desktop/frailty/Afroditi/NonFrail\n",
      "/home/afroditi/Desktop/frailty/Afroditi/NonFrail/3600\n",
      "[60  2]\n",
      "/home/afroditi/Desktop/frailty/Afroditi/NonFrail/3087\n",
      "[62  2]\n",
      "/home/afroditi/Desktop/frailty/Afroditi/NonFrail/3118\n",
      "[64  2]\n",
      "/home/afroditi/Desktop/frailty/Afroditi/NonFrail/3116\n",
      "[63  2]\n",
      "/home/afroditi/Desktop/frailty/Afroditi/NonFrail/3091\n",
      "[62  2]\n",
      "/home/afroditi/Desktop/frailty/Afroditi/NonFrail/2112\n",
      "[60  2]\n",
      "/home/afroditi/Desktop/frailty/Afroditi/NonFrail/2501\n",
      "[64  2]\n",
      "/home/afroditi/Desktop/frailty/Afroditi/NonFrail/2615\n",
      "[76  2]\n",
      "/home/afroditi/Desktop/frailty/Afroditi/NonFrail/3104\n",
      "[63  2]\n",
      "/home/afroditi/Desktop/frailty/Afroditi/NonFrail/3117\n",
      "[60  2]\n",
      "/home/afroditi/Desktop/frailty/Afroditi/PreFrail\n",
      "/home/afroditi/Desktop/frailty/Afroditi/PreFrail/1507\n",
      "[68  2]\n",
      "/home/afroditi/Desktop/frailty/Afroditi/PreFrail/3084\n",
      "[62  2]\n",
      "/home/afroditi/Desktop/frailty/Afroditi/PreFrail/1538\n",
      "[96  2]\n",
      "/home/afroditi/Desktop/frailty/Afroditi/PreFrail/3601\n",
      "[61  2]\n",
      "/home/afroditi/Desktop/frailty/Afroditi/PreFrail/3098\n",
      "[62  2]\n",
      "/home/afroditi/Desktop/frailty/Afroditi/PreFrail/3112\n",
      "[60  2]\n",
      "/home/afroditi/Desktop/frailty/Afroditi/PreFrail/3593\n",
      "[61  2]\n",
      "/home/afroditi/Desktop/frailty/Afroditi/PreFrail/1117\n",
      "[10  7]\n",
      "/home/afroditi/Desktop/frailty/Afroditi/PreFrail/2096\n",
      "[60  2]\n",
      "/home/afroditi/Desktop/frailty/Afroditi/PreFrail/2113\n",
      "[72  2]\n",
      "/home/afroditi/Desktop/frailty/Afroditi/PreFrail/2052\n",
      "[64  2]\n",
      "/home/afroditi/Desktop/frailty/Afroditi/PreFrail/2101\n",
      "[60  2]\n",
      "/home/afroditi/Desktop/frailty/Afroditi/Frail\n",
      "/home/afroditi/Desktop/frailty/Afroditi/Frail/2114\n",
      "[72  2]\n",
      "/home/afroditi/Desktop/frailty/Afroditi/Frail/2120\n",
      "[60  2]\n",
      "/home/afroditi/Desktop/frailty/Afroditi/Frail/2090\n",
      "[60  2]\n"
     ]
    }
   ],
   "source": [
    "import os ,fnmatch\n",
    "import pandas as pd \n",
    "import scipy.io\n",
    "import chardet\n",
    "import numpy as np\n",
    "import fnmatch\n",
    "\n",
    "def readingdata (subjpath):\n",
    "    with open(subjpath, 'rb') as fl:\n",
    "                result = chardet.detect(fl.read()) \n",
    "                values=pd.read_csv(subjpath,engine=\"python\",encoding=result['encoding'],delimiter='\\t',skiprows=[0],usecols=[1])\n",
    "                return values\n",
    "       \n",
    "    \n",
    "def shannon(col):\n",
    "   entropy = - sum([ p * math.log(p+sys.float_info.epsilon) / math.log(2.0) for p in col])\n",
    "   return entropy\n",
    "\n",
    "func_lst = [('mean',np.mean),('std',np.std), ('perc5',lambda x:np.percentile(x,5)), ('perc95',lambda x:np.percentile(x,95)),('mode', lambda x: x.mode()[0]),('skew', lambda x: x.skew()),('kurt', lambda x: x.kurtosis()),('energy',lambda x: (x**2).sum(axis=0)),('entropy', lambda x: shannon(x))]\n",
    "\n",
    "\n",
    "\n",
    "\n",
    "\n",
    "root=\"/home/afroditi/Desktop/frailty/Afroditi\"\n",
    "#class\n",
    "for cl in os.listdir(root):\n",
    "    path = os.path.join(root,cl)\n",
    "    print(path)\n",
    "    #the subjects\n",
    "    for subject in os.listdir(path):\n",
    "        subpath=os.path.join(path,subject)\n",
    "        print(subpath)\n",
    "        #files for each subject\n",
    "        for file in os.listdir(subpath):\n",
    "            #reading activity file\n",
    "            filepath=os.path.join(subpath,file)\n",
    "            if fnmatch.fnmatch(file,'activity.mat'):\n",
    "                activity = scipy.io.loadmat(filepath, squeeze_me=True ,struct_as_record=False)\n",
    "                print(activity['activity'][0])\n",
    "            \n",
    "            #reading AccX file\n",
    "            if fnmatch.fnmatch(file,'*AccX.*' ):\n",
    "                AccX=readingdata(filepath)\n",
    "              \n",
    "\n",
    "                \n",
    "               \n",
    "               \n",
    "                \n",
    "                \n",
    "    \n",
    "       \n",
    "        \n",
    "        \n",
    "        \n",
    "                   \n"
   ]
  },
  {
   "cell_type": "code",
   "execution_count": null,
   "metadata": {},
   "outputs": [],
   "source": []
  },
  {
   "cell_type": "code",
   "execution_count": null,
   "metadata": {},
   "outputs": [],
   "source": []
  }
 ],
 "metadata": {
  "kernelspec": {
   "display_name": "Python 3",
   "language": "python",
   "name": "python3"
  },
  "language_info": {
   "codemirror_mode": {
    "name": "ipython",
    "version": 3
   },
   "file_extension": ".py",
   "mimetype": "text/x-python",
   "name": "python",
   "nbconvert_exporter": "python",
   "pygments_lexer": "ipython3",
   "version": "3.6.4"
  }
 },
 "nbformat": 4,
 "nbformat_minor": 2
}
